{
 "cells": [
  {
   "cell_type": "markdown",
   "metadata": {},
   "source": [
    "### Functions"
   ]
  },
  {
   "cell_type": "code",
   "execution_count": 1,
   "metadata": {},
   "outputs": [],
   "source": [
    "def great_meeting():\n",
    "    print(\"Hello\")\n"
   ]
  },
  {
   "cell_type": "code",
   "execution_count": 2,
   "metadata": {},
   "outputs": [
    {
     "name": "stdout",
     "output_type": "stream",
     "text": [
      "Hello\n"
     ]
    }
   ],
   "source": [
    "great_meeting()"
   ]
  },
  {
   "cell_type": "markdown",
   "metadata": {},
   "source": [
    "#### Passing Information to a Function"
   ]
  },
  {
   "cell_type": "code",
   "execution_count": 4,
   "metadata": {},
   "outputs": [],
   "source": [
    "def great_user(username):\n",
    "    print('Hello', username)\n"
   ]
  },
  {
   "cell_type": "code",
   "execution_count": 5,
   "metadata": {},
   "outputs": [
    {
     "name": "stdout",
     "output_type": "stream",
     "text": [
      "Hello Kien\n"
     ]
    }
   ],
   "source": [
    "great_user(\"Kien\")"
   ]
  },
  {
   "cell_type": "code",
   "execution_count": 8,
   "metadata": {},
   "outputs": [],
   "source": [
    "def describe_pet(animal_type, pet_name):\n",
    "    '''Describe inforamation about pet'''\n",
    "    print(f\"\\nI have a animal type {animal_type}\")\n",
    "    print(f\"My {animal_type}'s name is {pet_name.title()}\")\n"
   ]
  },
  {
   "cell_type": "code",
   "execution_count": 9,
   "metadata": {},
   "outputs": [
    {
     "name": "stdout",
     "output_type": "stream",
     "text": [
      "\n",
      "I have a animal type hamster\n",
      "My hamster's name is Harry\n"
     ]
    }
   ],
   "source": [
    "describe_pet(\"hamster\", \"harry\")"
   ]
  },
  {
   "cell_type": "code",
   "execution_count": 10,
   "metadata": {},
   "outputs": [
    {
     "name": "stdout",
     "output_type": "stream",
     "text": [
      "\n",
      "I have a animal type dog\n",
      "My dog's name is Lu\n"
     ]
    }
   ],
   "source": [
    "describe_pet(\"dog\", \"lu\")"
   ]
  },
  {
   "cell_type": "code",
   "execution_count": 24,
   "metadata": {},
   "outputs": [],
   "source": [
    "def get_formatted(firstname, lastname, middlename = \"\"):\n",
    "    '''Return a full name, neatly formatted'''\n",
    "    if middlename:\n",
    "        fullname = f\"{firstname} {middlename} {lastname}\"\n",
    "    else:\n",
    "        fullname = f\"{firstname} {lastname}\"\n",
    "    return fullname.title()\n"
   ]
  },
  {
   "cell_type": "code",
   "execution_count": 25,
   "metadata": {},
   "outputs": [
    {
     "name": "stdout",
     "output_type": "stream",
     "text": [
      "Duong Kien\n"
     ]
    }
   ],
   "source": [
    "username = get_formatted(\"Duong\", \"kien\")\n",
    "print(username)"
   ]
  },
  {
   "cell_type": "markdown",
   "metadata": {},
   "source": [
    "#### Return a dictionary"
   ]
  },
  {
   "cell_type": "code",
   "execution_count": 26,
   "metadata": {},
   "outputs": [],
   "source": [
    "def build_person(firstname, lastname):\n",
    "    '''Return a dictionary of information about'''\n",
    "    person = {'first': firstname, 'last': lastname}\n",
    "    return person"
   ]
  },
  {
   "cell_type": "code",
   "execution_count": 27,
   "metadata": {},
   "outputs": [
    {
     "data": {
      "text/plain": [
       "{'first': 'Duong', 'last': 'Trung'}"
      ]
     },
     "execution_count": 27,
     "metadata": {},
     "output_type": "execute_result"
    }
   ],
   "source": [
    "build_person(\"Duong\", 'Trung')"
   ]
  },
  {
   "cell_type": "code",
   "execution_count": 28,
   "metadata": {},
   "outputs": [],
   "source": [
    "def build_person(firstname, lastname, age=None):\n",
    "    person = {'firstname': firstname, 'lastname': lastname}\n",
    "    if age:\n",
    "        person['age'] = age\n",
    "    return person"
   ]
  },
  {
   "cell_type": "code",
   "execution_count": 31,
   "metadata": {},
   "outputs": [
    {
     "data": {
      "text/plain": [
       "{'firstname': 'Duong', 'lastname': 'Trung Kien', 'age': 24}"
      ]
     },
     "execution_count": 31,
     "metadata": {},
     "output_type": "execute_result"
    }
   ],
   "source": [
    "build_person('Duong', 'Trung Kien', 24)"
   ]
  },
  {
   "cell_type": "code",
   "execution_count": 37,
   "metadata": {},
   "outputs": [
    {
     "name": "stdout",
     "output_type": "stream",
     "text": [
      "Print models: Dodecahedron\n",
      "Print models: Robot Pendant\n",
      "Print models: Phone Case\n",
      "\n",
      "The following models have been printed.\n",
      "     dodecahedron\n",
      "     robot pendant\n",
      "     phone case\n"
     ]
    }
   ],
   "source": [
    "unprint_designs = ['phone case', 'robot pendant', 'dodecahedron']\n",
    "completed_models = []\n",
    "\n",
    "while unprint_designs:\n",
    "    current_design = unprint_designs.pop()\n",
    "    print(f\"Print models: {current_design.title()}\")\n",
    "    completed_models.append(current_design)\n",
    "\n",
    "print('\\nThe following models have been printed.')\n",
    "for completed_model in completed_models:\n",
    "    print(\"     \" + completed_model)\n",
    "\n",
    "\n"
   ]
  },
  {
   "cell_type": "code",
   "execution_count": 38,
   "metadata": {},
   "outputs": [],
   "source": [
    "def print_models(unprint_designs, completed_models):\n",
    "    while unprint_designs:\n",
    "        current_design = unprint_designs.pop()\n",
    "        print(f\"Print models: {current_design.title()}\")\n",
    "        completed_models.append(current_design)\n"
   ]
  },
  {
   "cell_type": "code",
   "execution_count": 39,
   "metadata": {},
   "outputs": [],
   "source": [
    "def show_completed_models(completed_models):\n",
    "    print('\\nThe following models have been printed.')\n",
    "    for completed_model in completed_models:\n",
    "        print(\"     \" + completed_model)"
   ]
  },
  {
   "cell_type": "code",
   "execution_count": 40,
   "metadata": {},
   "outputs": [],
   "source": [
    "unprint_designs = ['phone case', 'robot pendant', 'dodecahedron']\n",
    "completed_models = []"
   ]
  },
  {
   "cell_type": "code",
   "execution_count": 41,
   "metadata": {},
   "outputs": [
    {
     "name": "stdout",
     "output_type": "stream",
     "text": [
      "Print models: Dodecahedron\n",
      "Print models: Robot Pendant\n",
      "Print models: Phone Case\n",
      "\n",
      "The following models have been printed.\n",
      "     dodecahedron\n",
      "     robot pendant\n",
      "     phone case\n"
     ]
    }
   ],
   "source": [
    "print_models(unprint_designs, completed_models)\n",
    "show_completed_models(completed_models)"
   ]
  },
  {
   "cell_type": "code",
   "execution_count": null,
   "metadata": {},
   "outputs": [],
   "source": []
  }
 ],
 "metadata": {
  "kernelspec": {
   "display_name": "Python 3",
   "language": "python",
   "name": "python3"
  },
  "language_info": {
   "codemirror_mode": {
    "name": "ipython",
    "version": 3
   },
   "file_extension": ".py",
   "mimetype": "text/x-python",
   "name": "python",
   "nbconvert_exporter": "python",
   "pygments_lexer": "ipython3",
   "version": "3.11.4"
  },
  "orig_nbformat": 4
 },
 "nbformat": 4,
 "nbformat_minor": 2
}
