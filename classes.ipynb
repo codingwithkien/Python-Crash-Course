{
 "cells": [
  {
   "attachments": {},
   "cell_type": "markdown",
   "metadata": {},
   "source": [
    "### Creating and Using a Class"
   ]
  },
  {
   "cell_type": "code",
   "execution_count": 2,
   "metadata": {},
   "outputs": [],
   "source": [
    "class Dog:\n",
    "    def __init__(self, name, age):\n",
    "        '''Initialize name and age attribute'''\n",
    "        self.name = name\n",
    "        self.age = age\n",
    "    \n",
    "    def sit(self):\n",
    "        '''Simulate a dog sitting in response to a command'''\n",
    "        print(f\"{self.name} is now sitting\")\n",
    "    \n",
    "    def roll_over(self):\n",
    "        '''Simulate rolling over in response to a command'''\n",
    "        print(f\"{self.name} rolled over!\")\n",
    "    "
   ]
  },
  {
   "cell_type": "code",
   "execution_count": 3,
   "metadata": {},
   "outputs": [],
   "source": [
    "my_dog = Dog('Wille', 9)"
   ]
  },
  {
   "cell_type": "code",
   "execution_count": 4,
   "metadata": {},
   "outputs": [
    {
     "name": "stdout",
     "output_type": "stream",
     "text": [
      "\n",
      "My dog's name is Wille\n",
      "\n",
      "My dog is 9 year old.\n"
     ]
    }
   ],
   "source": [
    "print(f\"\\nMy dog's name is {my_dog.name}\")\n",
    "print(f\"\\nMy dog is {my_dog.age} year old.\")"
   ]
  },
  {
   "cell_type": "code",
   "execution_count": 5,
   "metadata": {},
   "outputs": [
    {
     "name": "stdout",
     "output_type": "stream",
     "text": [
      "Wille is now sitting\n"
     ]
    }
   ],
   "source": [
    "my_dog.sit()"
   ]
  },
  {
   "cell_type": "code",
   "execution_count": 6,
   "metadata": {},
   "outputs": [
    {
     "name": "stdout",
     "output_type": "stream",
     "text": [
      "Wille rolled over!\n"
     ]
    }
   ],
   "source": [
    "my_dog.roll_over()"
   ]
  },
  {
   "attachments": {},
   "cell_type": "markdown",
   "metadata": {},
   "source": [
    "#### Car"
   ]
  },
  {
   "cell_type": "code",
   "execution_count": 21,
   "metadata": {},
   "outputs": [],
   "source": [
    "class Car:\n",
    "    def __init__(self, year, model, name, odometer_reading):\n",
    "        self.year = year\n",
    "        self.model = model\n",
    "        self.name = name\n",
    "        self.odometer_reading = odometer_reading\n",
    "    \n",
    "    def get_description_name(self):\n",
    "        long_name = f\"{self.year} {self.name} {self.model}\"\n",
    "        return long_name.title()\n",
    "    \n",
    "    def read_odometer(self):\n",
    "        print(f\"This car has {self.odometer_reading} miles on it.\")\n",
    "\n",
    "    def update_odometers(self, mileage):\n",
    "        self.odometer_reading = mileage"
   ]
  },
  {
   "cell_type": "code",
   "execution_count": 22,
   "metadata": {},
   "outputs": [],
   "source": [
    "my_car = Car('A4', 'Audi', 2020, 100)"
   ]
  },
  {
   "cell_type": "code",
   "execution_count": 23,
   "metadata": {},
   "outputs": [
    {
     "name": "stdout",
     "output_type": "stream",
     "text": [
      "A4 2020 Audi\n",
      "This car has 100 miles on it.\n"
     ]
    }
   ],
   "source": [
    "print(my_car.get_description_name())\n",
    "my_car.read_odometer()"
   ]
  },
  {
   "cell_type": "code",
   "execution_count": 24,
   "metadata": {},
   "outputs": [
    {
     "name": "stdout",
     "output_type": "stream",
     "text": [
      "This car has 23 miles on it.\n"
     ]
    }
   ],
   "source": [
    "my_car.update_odometers(23)\n",
    "my_car.read_odometer()"
   ]
  },
  {
   "attachments": {},
   "cell_type": "markdown",
   "metadata": {},
   "source": [
    "#### Inheritance"
   ]
  },
  {
   "cell_type": "code",
   "execution_count": 38,
   "metadata": {},
   "outputs": [],
   "source": [
    "class Car:\n",
    "    def __init__(self, year, model, name):\n",
    "        self.year = year\n",
    "        self.model = model\n",
    "        self.name = name\n",
    "        self.odometer_reading = 0\n",
    "\n",
    "    def get_description_name(self):\n",
    "        long_name = f\"{self.year} {self.name} {self.model}\"\n",
    "        return long_name.title()\n",
    "    \n",
    "    def read_odometer(self):\n",
    "        print(f\"This car has {self.odometer_reading} miles on it.\")\n",
    "\n",
    "    def update_odometer(self, mileage):\n",
    "        if mileage >= self.odometer_reading:\n",
    "            self.odometer_reading = mileage\n",
    "        else:\n",
    "            print(\"You can't roll back an odometer!\")\n",
    "\n",
    "class ElectricCar(Car):\n",
    "    def __init__(self, year, model, name):\n",
    "        super().__init__(year, model, name)\n",
    "        self.battery_size = 75 \n",
    "    \n",
    "    def describe_battery(self):\n",
    "        print(f\"This car has a {self.battery_size}-kWh battery\")"
   ]
  },
  {
   "cell_type": "code",
   "execution_count": 39,
   "metadata": {},
   "outputs": [
    {
     "name": "stdout",
     "output_type": "stream",
     "text": [
      "A4 2020 Audi\n",
      "This car has a 75-kWh battery\n"
     ]
    }
   ],
   "source": [
    "my_tesla = ElectricCar('A4', 'Audi', 2020)\n",
    "print(my_tesla.get_description_name())\n",
    "my_tesla.describe_battery()"
   ]
  },
  {
   "cell_type": "code",
   "execution_count": 46,
   "metadata": {},
   "outputs": [],
   "source": [
    "class Car:\n",
    "    def __init__(self, year, model, name):\n",
    "        self.year = year\n",
    "        self.model = model\n",
    "        self.name = name\n",
    "        self.odometer_reading = 0\n",
    "\n",
    "    def get_description_name(self):\n",
    "        long_name = f\"{self.year} {self.name} {self.model}\"\n",
    "        return long_name.title()\n",
    "    \n",
    "    def read_odometer(self):\n",
    "        print(f\"This car has {self.odometer_reading} miles on it.\")\n",
    "\n",
    "    def update_odometer(self, mileage):\n",
    "        if mileage >= self.odometer_reading:\n",
    "            self.odometer_reading = mileage\n",
    "        else:\n",
    "            print(\"You can't roll back an odometer!\")\n",
    "\n",
    "class Battery:\n",
    "    def __init__(self, battery_size = 75):\n",
    "        self.battery_size = battery_size\n",
    "    \n",
    "    def describe_battery(self):\n",
    "        print(f\"This car has a {self.battery_size}-kWh battery\")\n",
    "\n",
    "class ElectricCar(Car):\n",
    "    def __init__(self, year, model, name):\n",
    "        super().__init__(year, model, name)\n",
    "        self.battery = Battery()\n",
    "    "
   ]
  },
  {
   "cell_type": "code",
   "execution_count": 47,
   "metadata": {},
   "outputs": [
    {
     "name": "stdout",
     "output_type": "stream",
     "text": [
      "This car has a 75-kWh battery\n"
     ]
    }
   ],
   "source": [
    "my_tesla = ElectricCar('A4', 'Audi', 2020)\n",
    "my_tesla.battery.describe_battery()"
   ]
  },
  {
   "cell_type": "code",
   "execution_count": null,
   "metadata": {},
   "outputs": [],
   "source": []
  }
 ],
 "metadata": {
  "kernelspec": {
   "display_name": "Python 3",
   "language": "python",
   "name": "python3"
  },
  "language_info": {
   "codemirror_mode": {
    "name": "ipython",
    "version": 3
   },
   "file_extension": ".py",
   "mimetype": "text/x-python",
   "name": "python",
   "nbconvert_exporter": "python",
   "pygments_lexer": "ipython3",
   "version": "3.11.4"
  },
  "orig_nbformat": 4
 },
 "nbformat": 4,
 "nbformat_minor": 2
}
