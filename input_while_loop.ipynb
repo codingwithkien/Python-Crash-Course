{
 "cells": [
  {
   "attachments": {},
   "cell_type": "markdown",
   "metadata": {},
   "source": [
    "### Input"
   ]
  },
  {
   "cell_type": "code",
   "execution_count": 1,
   "metadata": {},
   "outputs": [
    {
     "name": "stdout",
     "output_type": "stream",
     "text": [
      "Hello Kien\n"
     ]
    }
   ],
   "source": [
    "message = input(\"What is your name?\")\n",
    "print(f\"Hello {message}\")"
   ]
  },
  {
   "cell_type": "code",
   "execution_count": 2,
   "metadata": {},
   "outputs": [
    {
     "name": "stdout",
     "output_type": "stream",
     "text": [
      "Age: 21\n"
     ]
    }
   ],
   "source": [
    "age = int(input(\"How old are you?\"))\n",
    "print(f\"Age: {age}\")"
   ]
  },
  {
   "cell_type": "code",
   "execution_count": 4,
   "metadata": {},
   "outputs": [
    {
     "name": "stdout",
     "output_type": "stream",
     "text": [
      "\n",
      "You'll be able to ride when you're a little order\n"
     ]
    }
   ],
   "source": [
    "\n",
    "height = int(input(\"How tall are you, in meters?\"))\n",
    "\n",
    "if height >= 150:\n",
    "    print(\"\\nYou are very tall enough to ride.\")\n",
    "else:\n",
    "    print(\"\\nYou'll be able to ride when you're a little order\")"
   ]
  },
  {
   "attachments": {},
   "cell_type": "markdown",
   "metadata": {},
   "source": [
    "#### While Loop"
   ]
  },
  {
   "cell_type": "code",
   "execution_count": 5,
   "metadata": {},
   "outputs": [
    {
     "name": "stdout",
     "output_type": "stream",
     "text": [
      "1\n",
      "2\n",
      "3\n",
      "4\n"
     ]
    }
   ],
   "source": [
    "current_number = 1\n",
    "while current_number < 5:\n",
    "    print(current_number)\n",
    "    current_number = current_number + 1\n"
   ]
  },
  {
   "cell_type": "code",
   "execution_count": 2,
   "metadata": {},
   "outputs": [],
   "source": [
    "active = True\n",
    "while active:\n",
    "    message = input(\"Enter your name: \")\n",
    "    if message == \"quit\":\n",
    "        active = False\n",
    "    else:\n",
    "        print(message)"
   ]
  },
  {
   "cell_type": "code",
   "execution_count": 3,
   "metadata": {},
   "outputs": [
    {
     "name": "stdout",
     "output_type": "stream",
     "text": [
      "1\n",
      "3\n",
      "5\n",
      "7\n",
      "9\n"
     ]
    }
   ],
   "source": [
    "current_number = 0\n",
    "while current_number < 10:\n",
    "    current_number = current_number + 1\n",
    "    if current_number % 2 == 0:\n",
    "        continue\n",
    "    print(current_number)"
   ]
  },
  {
   "cell_type": "code",
   "execution_count": 4,
   "metadata": {},
   "outputs": [
    {
     "name": "stdout",
     "output_type": "stream",
     "text": [
      "Verify user: Candace\n",
      "Verify user: Brian\n",
      "Verify user: Alice\n",
      "The following users have been confirmed\n",
      "\tCandace\n",
      "\tBrian\n",
      "\tAlice\n"
     ]
    }
   ],
   "source": [
    "unconfirmed_users = ['alice', 'brian', 'candace']\n",
    "confirmed_users = []\n",
    "\n",
    "while unconfirmed_users:\n",
    "    current_user = unconfirmed_users.pop()\n",
    "    print(f\"Verify user: {current_user.title()}\")\n",
    "    confirmed_users.append(current_user)\n",
    "\n",
    "print(\"The following users have been confirmed\")\n",
    "for confirmed_user in confirmed_users:\n",
    "    print(confirmed_user.title())\n"
   ]
  },
  {
   "attachments": {},
   "cell_type": "markdown",
   "metadata": {},
   "source": [
    "### Removing all instances of specific values from a list"
   ]
  },
  {
   "cell_type": "code",
   "execution_count": 5,
   "metadata": {},
   "outputs": [
    {
     "name": "stdout",
     "output_type": "stream",
     "text": [
      "['dog', 'dog', 'goldfish', 'rabbit']\n"
     ]
    }
   ],
   "source": [
    "pets = ['dog', 'cat', 'dog', 'goldfish','cat', 'rabbit', 'cat']\n",
    "\n",
    "while 'cat' in pets:\n",
    "    pets.remove('cat')\n",
    "\n",
    "print(pets)"
   ]
  },
  {
   "cell_type": "markdown",
   "metadata": {},
   "source": [
    "### Filling a dictionary with user input"
   ]
  },
  {
   "cell_type": "code",
   "execution_count": 10,
   "metadata": {},
   "outputs": [
    {
     "name": "stdout",
     "output_type": "stream",
     "text": [
      "\n",
      "----- Poll Results ------\n",
      "Kien would like to climb Small Mountain\n",
      "Trung would like to climb Big Mountain\n"
     ]
    }
   ],
   "source": [
    "responses = {}\n",
    "polling_active = True\n",
    "\n",
    "while polling_active:\n",
    "    name = input('\\n What is your name? ')\n",
    "    response = input('\\nWhich moutain would you like to climb someday? ')\n",
    "    responses[name] = response\n",
    "\n",
    "\n",
    "    repeat = input(\"Would you like to let another person respond? (Yes / No) \")\n",
    "    if repeat == 'no':\n",
    "        polling_active = False\n",
    "\n",
    "print('\\n----- Poll Results ------')\n",
    "for name, response in responses.items():\n",
    "    print(f\"{name.title()} would like to climb {response.title()}\")"
   ]
  },
  {
   "cell_type": "code",
   "execution_count": 11,
   "metadata": {},
   "outputs": [
    {
     "name": "stdout",
     "output_type": "stream",
     "text": [
      "{'Kien': 'Small Mountain', 'Trung': 'Big Mountain'}\n"
     ]
    }
   ],
   "source": [
    "print(responses)"
   ]
  },
  {
   "cell_type": "code",
   "execution_count": null,
   "metadata": {},
   "outputs": [],
   "source": []
  }
 ],
 "metadata": {
  "kernelspec": {
   "display_name": "Python 3",
   "language": "python",
   "name": "python3"
  },
  "language_info": {
   "codemirror_mode": {
    "name": "ipython",
    "version": 3
   },
   "file_extension": ".py",
   "mimetype": "text/x-python",
   "name": "python",
   "nbconvert_exporter": "python",
   "pygments_lexer": "ipython3",
   "version": "3.11.4"
  },
  "orig_nbformat": 4
 },
 "nbformat": 4,
 "nbformat_minor": 2
}
