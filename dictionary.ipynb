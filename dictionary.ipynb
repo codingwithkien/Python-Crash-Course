{
 "cells": [
  {
   "cell_type": "markdown",
   "metadata": {},
   "source": [
    "### Dictionary"
   ]
  },
  {
   "cell_type": "code",
   "execution_count": 1,
   "metadata": {},
   "outputs": [
    {
     "name": "stdout",
     "output_type": "stream",
     "text": [
      "{'color': 'green', 'points': 5}\n"
     ]
    }
   ],
   "source": [
    "alien_0 = {'color': 'green', 'points': 5}\n",
    "print(alien_0)"
   ]
  },
  {
   "cell_type": "code",
   "execution_count": 2,
   "metadata": {},
   "outputs": [
    {
     "data": {
      "text/plain": [
       "dict"
      ]
     },
     "execution_count": 2,
     "metadata": {},
     "output_type": "execute_result"
    }
   ],
   "source": [
    "type(alien_0)"
   ]
  },
  {
   "cell_type": "code",
   "execution_count": 4,
   "metadata": {},
   "outputs": [
    {
     "name": "stdout",
     "output_type": "stream",
     "text": [
      "green\n",
      "5\n"
     ]
    }
   ],
   "source": [
    "print(alien_0[\"color\"])\n",
    "print(alien_0[\"points\"])"
   ]
  },
  {
   "cell_type": "code",
   "execution_count": 5,
   "metadata": {},
   "outputs": [
    {
     "name": "stdout",
     "output_type": "stream",
     "text": [
      "You just earned 5 points\n"
     ]
    }
   ],
   "source": [
    "new_point = alien_0['points']\n",
    "print(f\"You just earned {new_point} points\")"
   ]
  },
  {
   "attachments": {},
   "cell_type": "markdown",
   "metadata": {},
   "source": [
    "### Adding new key-value pairs"
   ]
  },
  {
   "cell_type": "code",
   "execution_count": 6,
   "metadata": {},
   "outputs": [
    {
     "name": "stdout",
     "output_type": "stream",
     "text": [
      "{'color': 'green', 'points': 5, 'x_positions': 0, 'y_positions': 10}\n"
     ]
    }
   ],
   "source": [
    "alien_0['x_positions'] = 0\n",
    "alien_0['y_positions'] = 10\n",
    "print(alien_0)"
   ]
  },
  {
   "cell_type": "code",
   "execution_count": 7,
   "metadata": {},
   "outputs": [
    {
     "name": "stdout",
     "output_type": "stream",
     "text": [
      "The alien is green\n",
      "The alien is now red\n"
     ]
    }
   ],
   "source": [
    "alien_0 = {'color': 'green'}\n",
    "print(f\"The alien is {alien_0['color']}\")\n",
    "\n",
    "alien_0['color'] = 'red'\n",
    "print(f\"The alien is now {alien_0['color']}\")"
   ]
  },
  {
   "cell_type": "code",
   "execution_count": 9,
   "metadata": {},
   "outputs": [
    {
     "name": "stdout",
     "output_type": "stream",
     "text": [
      "Original dictionary: {'x-position': 0, 'y-position': 25, 'speed': 'medium'}\n",
      "New porition: 2\n"
     ]
    }
   ],
   "source": [
    "alien_0 = {'x-position': 0, 'y-position': 25, 'speed': 'medium'}\n",
    "print(f\"Original dictionary: {alien_0}\")\n",
    "\n",
    "if alien_0['speed'] == 'slow':\n",
    "    x_increment = 1\n",
    "elif alien_0['speed'] == 'medium':\n",
    "    x_increment = 2\n",
    "else:\n",
    "    x_increment = 3\n",
    "\n",
    "alien_0['x-position'] = alien_0['x-position'] + x_increment\n",
    "print(f\"New porition: {alien_0['x-position']}\")\n"
   ]
  },
  {
   "cell_type": "markdown",
   "metadata": {},
   "source": [
    "### Remove key-value pairs"
   ]
  },
  {
   "cell_type": "code",
   "execution_count": 11,
   "metadata": {},
   "outputs": [],
   "source": [
    "del alien_0['x-position']"
   ]
  },
  {
   "cell_type": "code",
   "execution_count": 12,
   "metadata": {},
   "outputs": [
    {
     "name": "stdout",
     "output_type": "stream",
     "text": [
      "{'y-position': 25, 'speed': 'medium'}\n"
     ]
    }
   ],
   "source": [
    "print(alien_0)"
   ]
  },
  {
   "cell_type": "code",
   "execution_count": 13,
   "metadata": {},
   "outputs": [],
   "source": [
    "favorite_language = {\n",
    "    'jen': 'python',\n",
    "    'sarah': 'c',\n",
    "    'edward': 'java',\n",
    "    'phil': 'ruby'\n",
    "}"
   ]
  },
  {
   "cell_type": "code",
   "execution_count": 14,
   "metadata": {},
   "outputs": [
    {
     "name": "stdout",
     "output_type": "stream",
     "text": [
      "{'jen': 'python', 'sarah': 'c', 'edward': 'java', 'phil': 'ruby'}\n"
     ]
    }
   ],
   "source": [
    "print(favorite_language)"
   ]
  },
  {
   "cell_type": "code",
   "execution_count": 19,
   "metadata": {},
   "outputs": [
    {
     "name": "stdout",
     "output_type": "stream",
     "text": [
      "JEN favorite language is PYTHON\n",
      "Sarah favorite language is C\n",
      "Edward favorite language is Java\n",
      "Phil favorite language is Ruby\n"
     ]
    }
   ],
   "source": [
    "for key, value in favorite_language.items():\n",
    "    if value == \"python\":\n",
    "        print(f\"{key.upper()} favorite language is {value.upper()}\")\n",
    "    else:\n",
    "        print(f\"{key.title()} favorite language is {value.title()}\")\n"
   ]
  },
  {
   "cell_type": "code",
   "execution_count": 20,
   "metadata": {},
   "outputs": [
    {
     "name": "stdout",
     "output_type": "stream",
     "text": [
      "Jen\n",
      "Sarah\n",
      "Edward\n",
      "Phil\n"
     ]
    }
   ],
   "source": [
    "for name in favorite_language.keys():\n",
    "    print(name.title())"
   ]
  },
  {
   "cell_type": "markdown",
   "metadata": {},
   "source": [
    "### Nested"
   ]
  },
  {
   "cell_type": "code",
   "execution_count": 2,
   "metadata": {},
   "outputs": [
    {
     "name": "stdout",
     "output_type": "stream",
     "text": [
      "[{'color': 'green', 'points': 10}, {'color': 'red', 'points': 25}, {'color': 'yellow', 'points': 50}]\n"
     ]
    }
   ],
   "source": [
    "alien_0 = {'color': 'green', 'points': 10}\n",
    "alien_1 = {'color': 'red', 'points': 25}\n",
    "alien_2 = {'color': 'yellow', 'points': 50}\n",
    "\n",
    "alien =  [alien_0, alien_1, alien_2]\n",
    "print(alien)"
   ]
  },
  {
   "cell_type": "markdown",
   "metadata": {},
   "source": [
    "### A list in dictionary"
   ]
  },
  {
   "cell_type": "code",
   "execution_count": 3,
   "metadata": {},
   "outputs": [],
   "source": [
    "pizza = {\n",
    "    'crust' : 'thick',\n",
    "    'toppings': ['mushroom', 'extra cheese']\n",
    "}"
   ]
  },
  {
   "cell_type": "code",
   "execution_count": 7,
   "metadata": {},
   "outputs": [
    {
     "name": "stdout",
     "output_type": "stream",
     "text": [
      "Your ordered a pizza thick - crust pizza with the following topping: \n",
      "\t- Mushroom\n",
      "\t- Extra Cheese\n"
     ]
    }
   ],
   "source": [
    "print(f\"Your ordered a pizza {pizza['crust']} - crust pizza with the following topping: \")\n",
    "for topping in pizza['toppings']:\n",
    "    print(\"\\t- \" + topping.title())"
   ]
  },
  {
   "cell_type": "code",
   "execution_count": 8,
   "metadata": {},
   "outputs": [],
   "source": [
    "favorite_language = {\n",
    "    'jen': ['python', 'ruby'],\n",
    "    'sarah': ['c'],\n",
    "    'edward': ['ruby', 'go']    \n",
    "}"
   ]
  },
  {
   "cell_type": "code",
   "execution_count": 11,
   "metadata": {},
   "outputs": [
    {
     "name": "stdout",
     "output_type": "stream",
     "text": [
      "Jen's favorite language are: \n",
      "\tPython\n",
      "\tRuby\n",
      "Sarah's favorite language are: \n",
      "\tC\n",
      "Edward's favorite language are: \n",
      "\tRuby\n",
      "\tGo\n"
     ]
    }
   ],
   "source": [
    "for name, languages in favorite_language.items():\n",
    "    print(f\"{name.title()}'s favorite language are: \")\n",
    "    for language in languages:\n",
    "        print(\"\\t\" + language.title())\n"
   ]
  },
  {
   "cell_type": "code",
   "execution_count": 12,
   "metadata": {},
   "outputs": [],
   "source": [
    "users = {\n",
    "    'aeinstein': {\n",
    "    'first': 'albert',\n",
    "    'last': 'einstein',\n",
    "    'location': 'princeton',\n",
    "    },\n",
    "    'mcurie': {\n",
    "    'first': 'marie',\n",
    "    'last': 'curie',\n",
    "    'location': 'paris',\n",
    "    },\n",
    "}"
   ]
  },
  {
   "cell_type": "code",
   "execution_count": 23,
   "metadata": {},
   "outputs": [
    {
     "name": "stdout",
     "output_type": "stream",
     "text": [
      "Username: Aeinstein\n",
      "Fullname: Albert Einstein\n",
      "Location: Princeton\n",
      "-----\n",
      "Username: Mcurie\n",
      "Fullname: Marie Curie\n",
      "Location: Paris\n",
      "-----\n"
     ]
    }
   ],
   "source": [
    "for user, user_info in users.items():\n",
    "    print(f\"Username: {user.title()}\")\n",
    "    print(f\"Fullname: {user_info['first'].title()} {user_info['last'].title()}\")\n",
    "    print(f\"Location: {user_info['location'].title()}\")\n",
    "    print(\"-----\")"
   ]
  },
  {
   "cell_type": "code",
   "execution_count": null,
   "metadata": {},
   "outputs": [],
   "source": []
  }
 ],
 "metadata": {
  "kernelspec": {
   "display_name": "Python 3",
   "language": "python",
   "name": "python3"
  },
  "language_info": {
   "codemirror_mode": {
    "name": "ipython",
    "version": 3
   },
   "file_extension": ".py",
   "mimetype": "text/x-python",
   "name": "python",
   "nbconvert_exporter": "python",
   "pygments_lexer": "ipython3",
   "version": "3.11.4"
  },
  "orig_nbformat": 4
 },
 "nbformat": 4,
 "nbformat_minor": 2
}
